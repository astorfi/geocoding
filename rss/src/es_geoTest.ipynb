{
 "cells": [
  {
   "cell_type": "code",
   "execution_count": 1,
   "metadata": {},
   "outputs": [],
   "source": [
    "from geoutils.dbManager import ESWrapper\n",
    "from geocode import BaseGeo\n",
    "db = ESWrapper(\"geonames\", \"places\")"
   ]
  },
  {
   "cell_type": "code",
   "execution_count": 2,
   "metadata": {},
   "outputs": [],
   "source": [
    "geo = BaseGeo(db)"
   ]
  },
  {
   "cell_type": "code",
   "execution_count": 3,
   "metadata": {},
   "outputs": [],
   "source": [
    "import json\n",
    "a = open(\"/home/sathappan/enrichment/ICEWS-Data/jasonSchlachter_data/enricheddata/azerbaijan_keywords.mjson\")"
   ]
  },
  {
   "cell_type": "code",
   "execution_count": 4,
   "metadata": {},
   "outputs": [],
   "source": [
    "j = json.loads(a.readline())"
   ]
  },
  {
   "cell_type": "code",
   "execution_count": 5,
   "metadata": {},
   "outputs": [
    {
     "data": {
      "text/plain": [
       "[(u'Consular Department', u'ORGANIZATION'),\n",
       " (u'Russian', u'NATIONALITY'),\n",
       " (u'Azerbaijan', u'LOCATION'),\n",
       " (u'Azeri', u'NATIONALITY'),\n",
       " (u'Russia', u'LOCATION'),\n",
       " (u'Russian', u'NATIONALITY'),\n",
       " (u'Russian', u'NATIONALITY'),\n",
       " (u'Azeri', u'NATIONALITY')]"
      ]
     },
     "execution_count": 5,
     "metadata": {},
     "output_type": "execute_result"
    }
   ],
   "source": [
    "[(l['expr'], l['neType']) for l in j[\"BasisEnrichment\"][\"entities\"] if \n",
    " l['neType'] in (\"LOCATION\", \"NATIONALITY\", \"ORGANIZATION\")]"
   ]
  },
  {
   "cell_type": "code",
   "execution_count": 6,
   "metadata": {},
   "outputs": [],
   "source": [
    "g = geo.geocode(j)"
   ]
  },
  {
   "cell_type": "code",
   "execution_count": 7,
   "metadata": {},
   "outputs": [
    {
     "data": {
      "text/plain": [
       "u'Consular Department of Russian embassy in Azerbaijan refuted repots that from January 1, 2002 Azeri citizens need an international passport to enter Russia.\\nA source from the Russian embassy told TURAN that they received no official instructions to change rules of Russian border crossing by Azeri citizens.'"
      ]
     },
     "execution_count": 7,
     "metadata": {},
     "output_type": "execute_result"
    }
   ],
   "source": [
    "j[\"RawText\"]"
   ]
  },
  {
   "cell_type": "code",
   "execution_count": 10,
   "metadata": {},
   "outputs": [
    {
     "name": "stdout",
     "output_type": "stream",
     "text": [
      "//Azerbaijan\n",
      "azerbaijan 0.85\n",
      "//Russia\n",
      "russia 0.85\n"
     ]
    }
   ],
   "source": [
    "for l in g[0]:\n",
    "    printloc(g[0][l]['geo_point'])\n",
    "    print l, g[0][l]['score']"
   ]
  },
  {
   "cell_type": "code",
   "execution_count": 9,
   "metadata": {},
   "outputs": [],
   "source": [
    "def printloc(ll):\n",
    "    print \"/\".join([ll['city'], ll['admin1'], ll['country']])"
   ]
  },
  {
   "cell_type": "code",
   "execution_count": 16,
   "metadata": {},
   "outputs": [
    {
     "data": {
      "text/plain": [
       "(u'baku', u'Baki', u'Azerbaijan')"
      ]
     },
     "execution_count": 16,
     "metadata": {},
     "output_type": "execute_result"
    }
   ],
   "source": [
    "g[1]['city'], g[1]['admin1'], g[1]['country']"
   ]
  },
  {
   "cell_type": "code",
   "execution_count": 40,
   "metadata": {},
   "outputs": [
    {
     "name": "stdout",
     "output_type": "stream",
     "text": [
      "Ukraine// 45415596\n"
     ]
    }
   ],
   "source": [
    "for l in geo.gazetteer.query(\"ukraine\"):\n",
    "    print l, l.population"
   ]
  },
  {
   "cell_type": "code",
   "execution_count": 41,
   "metadata": {},
   "outputs": [
    {
     "data": {
      "text/plain": [
       "{'geo_point': {'_score': 0.35294117647058826,\n",
       "  'admin1': u'',\n",
       "  'admin2': '',\n",
       "  'admin3': u'',\n",
       "  'admin4': u'',\n",
       "  'alternatenames': [u'avrupa',\n",
       "   u'chau au',\n",
       "   u'ch\\xe2u \\xe2u',\n",
       "   u'eiropa',\n",
       "   u'el viejo continente',\n",
       "   u'eropa',\n",
       "   u'eurohpa',\n",
       "   u'eurohp\\xe1',\n",
       "   u'euroopa',\n",
       "   u'eurooppa',\n",
       "   u'europa',\n",
       "   u'europe',\n",
       "   u'europo',\n",
       "   u'eur\\xf3pa',\n",
       "   u'evropa',\n",
       "   u'evr\\xf3pa',\n",
       "   u'ewrop',\n",
       "   u'e\\u016dropo',\n",
       "   u'an eoraip',\n",
       "   u'awrwba',\n",
       "   u'ou zhou',\n",
       "   u'yoroppa',\n",
       "   u'yuleob',\n",
       "   u'yurop',\n",
       "   u'yuropa',\n",
       "   u'\\u03b5\\u03c5\\u03c1\\u03ce\\u03c0\\u03b7',\n",
       "   u'\\u0454\\u0432\\u0440\\u043e\\u043f\\u0430',\n",
       "   u'\\u0435\\u0432\\u0440\\u043e\\u043f\\u0430',\n",
       "   u'\\u0435\\u045e\\u0440\\u043e\\u043f\\u0430',\n",
       "   u'\\u05d0\\u05d9\\u05e8\\u05d5\\u05e4\\u05d4',\n",
       "   u'\\u0623\\u0648\\u0631\\u0648\\u0628\\u0627',\n",
       "   u'\\u092f\\u0942\\u0930\\u094b\\u092a',\n",
       "   u'\\u0e22\\u0e38\\u0e42\\u0e23\\u0e1b',\n",
       "   u'\\u30e8\\u30fc\\u30ed\\u30c3\\u30d1',\n",
       "   u'\\u6b27\\u6d32',\n",
       "   u'\\uc720\\ub7fd'],\n",
       "  'asciiname': u'europe',\n",
       "  'cc2': u'',\n",
       "  'city': '',\n",
       "  'confidence': 0.35294117647058826,\n",
       "  'coordinates': [9.14062, 48.69096],\n",
       "  'country': '',\n",
       "  'countryCode': u'',\n",
       "  'dem': u'443',\n",
       "  'elevation': -1,\n",
       "  'featureClass': u'l',\n",
       "  'featureCode': u'cont',\n",
       "  'geonameid': u'6255148',\n",
       "  'id': u'6255148',\n",
       "  'ltype': 'area',\n",
       "  'modificationDate': u'2016-06-01',\n",
       "  'name': u'europe',\n",
       "  'population': 0,\n",
       "  'timezone': u'europe/vaduz'},\n",
       " 'score': 0.054651401247945076}"
      ]
     },
     "execution_count": 41,
     "metadata": {},
     "output_type": "execute_result"
    }
   ],
   "source": [
    "g[0]['council of europe']"
   ]
  },
  {
   "cell_type": "code",
   "execution_count": 52,
   "metadata": {},
   "outputs": [
    {
     "name": "stdout",
     "output_type": "stream",
     "text": [
      "{'query': {'bool': {'filter': {'bool': {'should': [{'range': {'population': {'gte': 5000}}}, {'terms': {'featureCode': ['ppla', 'pplx']}}]}}, 'should': [{'bool': {'filter': {'bool': {'should': [{'range': {'population': {'gte': 5000}}}, {'terms': {'featureCode': ['pcla', 'pcli', 'cont', 'rgn', 'admd']}}]}}, 'must': {'multi_match': {'query': 'nagorno karabakh', 'fields': ['name', 'asciiname', 'alternatenames']}}}}, {'term': {'name.raw': {'boost': 2.0, 'value': 'nagorno karabakh'}}}, {'term': {'asciiname': {'boost': 2.0, 'value': 'nagorno karabakh'}}}, {'term': {'alternatenames': {'boost': 2.0, 'value': 'nagorno karabakh'}}}], 'minimum_number_should_match': 1}}}\n"
     ]
    },
    {
     "ename": "IndexError",
     "evalue": "list index out of range",
     "output_type": "error",
     "traceback": [
      "\u001b[0;31m---------------------------------------------------------------------------\u001b[0m",
      "\u001b[0;31mIndexError\u001b[0m                                Traceback (most recent call last)",
      "\u001b[0;32m<ipython-input-52-6cf2e1e4a9d3>\u001b[0m in \u001b[0;36m<module>\u001b[0;34m()\u001b[0m\n\u001b[0;32m----> 1\u001b[0;31m \u001b[0mgeo\u001b[0m\u001b[0;34m.\u001b[0m\u001b[0mgazetteer\u001b[0m\u001b[0;34m.\u001b[0m\u001b[0mdb\u001b[0m\u001b[0;34m.\u001b[0m\u001b[0mquery\u001b[0m\u001b[0;34m(\u001b[0m\u001b[0;34m\"nagorno karabakh\"\u001b[0m\u001b[0;34m,\u001b[0m \u001b[0mmin_popln\u001b[0m\u001b[0;34m=\u001b[0m\u001b[0;36m5000\u001b[0m\u001b[0;34m,\u001b[0m \u001b[0mqtype\u001b[0m\u001b[0;34m=\u001b[0m\u001b[0;34m\"combined\"\u001b[0m\u001b[0;34m,\u001b[0m \u001b[0mquery_name\u001b[0m\u001b[0;34m=\u001b[0m\u001b[0;34m\"should\"\u001b[0m\u001b[0;34m)\u001b[0m\u001b[0;34m[\u001b[0m\u001b[0;36m0\u001b[0m\u001b[0;34m]\u001b[0m\u001b[0;34m.\u001b[0m\u001b[0m__dict__\u001b[0m\u001b[0;34m\u001b[0m\u001b[0m\n\u001b[0m",
      "\u001b[0;31mIndexError\u001b[0m: list index out of range"
     ]
    }
   ],
   "source": [
    "geo.gazetteer.db.query(\"nagorno karabakh\", min_popln=5000, qtype=\"combined\", query_name=\"should\")[0].__dict__"
   ]
  },
  {
   "cell_type": "code",
   "execution_count": 39,
   "metadata": {},
   "outputs": [],
   "source": [
    "q = {'query': {'bool': {'filter': {'bool': {'should': [{'range': {'population': {'gte': 5000}}}, {'terms': {'featureCode': ['ppla', 'pplx']}}]}}, 'should': [{'bool': {'filter': {'bool': {'should': [{'range': {'population': {'gte': 5000}}}, {'terms': {'featureCode': ['pcla', 'pcli', 'cont', 'rgn', 'admd']}}]}}, 'must': {'multi_match': {'query': 'leader', 'fields': ['name', 'asciiname', 'alternatenames']}}}}, {'term': {'name.raw': {'boost': 2.0, 'value': 'leader'}}}, {'term': {'asciiname': {'boost': 2.0, 'value': 'leader'}}}, {'term': {'alternatenames': {'boost': 2.0, 'value': 'leader'}}}], 'minimum_number_should_match': 1}}}"
   ]
  },
  {
   "cell_type": "code",
   "execution_count": 40,
   "metadata": {},
   "outputs": [
    {
     "data": {
      "text/plain": [
       "{'query': {'bool': {'filter': {'bool': {'should': [{'range': {'population': {'gte': 5000}}},\n",
       "      {'terms': {'featureCode': ['ppla', 'pplx']}}]}},\n",
       "   'minimum_number_should_match': 1,\n",
       "   'should': [{'bool': {'filter': {'bool': {'should': [{'range': {'population': {'gte': 5000}}},\n",
       "         {'terms': {'featureCode': ['pcla',\n",
       "            'pcli',\n",
       "            'cont',\n",
       "            'rgn',\n",
       "            'admd']}}]}},\n",
       "      'must': {'multi_match': {'fields': ['name',\n",
       "         'asciiname',\n",
       "         'alternatenames'],\n",
       "        'query': 'leader'}}}},\n",
       "    {'term': {'name.raw': {'boost': 2.0, 'value': 'leader'}}},\n",
       "    {'term': {'asciiname': {'boost': 2.0, 'value': 'leader'}}},\n",
       "    {'term': {'alternatenames': {'boost': 2.0, 'value': 'leader'}}}]}}}"
      ]
     },
     "execution_count": 40,
     "metadata": {},
     "output_type": "execute_result"
    }
   ],
   "source": [
    "q"
   ]
  },
  {
   "cell_type": "code",
   "execution_count": 65,
   "metadata": {},
   "outputs": [],
   "source": [
    "q = {'query': {'bool': {'filter': {'bool': {'should': [{'range': {'population': {'gte': 5000}}},\n",
    "      {'terms': {'featureCode': ['ppla', 'pplx']}}]}},\n",
    "   'minimum_number_should_match': 1,\n",
    "   'should': [{'bool': {'filter': {'bool': {'should': [{'range': {'population': {'gte': 0}}},\n",
    "         {'terms': {'featureCode': ['pcla',\n",
    "            'pcli',\n",
    "            'cont',\n",
    "            'rgn',\n",
    "            'admd']}}]}},\n",
    "      'must': {'multi_match': {'fields': ['name',\n",
    "         'asciiname',\n",
    "         'alternatenames'],\n",
    "        'query': cc}}}},\n",
    "    {'term': {'name.raw': {'boost': 2.0, 'value': cc}}},\n",
    "    {'term': {'asciiname': {'boost': 2.0, 'value': cc}}},\n",
    "    {'term': {'alternatenames': {'boost': 2.0, 'value': cc}}}]}}}"
   ]
  },
  {
   "cell_type": "code",
   "execution_count": 54,
   "metadata": {},
   "outputs": [],
   "source": [
    "cc = \"nagorno-karabakh\"\n",
    "q2 = {'query': {'bool': {'filter': {'bool': {'should': [{'range': {'population': {'gte': 5000}}},\n",
    "      {'terms': {'featureCode': ['ppla']}}]}},\n",
    "   'minimum_number_should_match': 1,\n",
    "   'should': [{'bool': {'filter': {'bool': {'should': [{'range': {'population': {'gte': 5000}}},\n",
    "         {'terms': {'featureCode': ['pcla',\n",
    "            'pcli',\n",
    "            'cont',\n",
    "            'rgn',\n",
    "            'admd']}}]}},\n",
    "      'must': {'multi_match': {'fields': ['name',\n",
    "         'asciiname',\n",
    "         'alternatenames'],\n",
    "        'query': cc}}}},\n",
    "    {'term': {'name.raw': {'boost': 2.0, 'value': cc}}},\n",
    "    {'term': {'asciiname': {'boost': 2.0, 'value': cc}}},\n",
    "    {'term': {'alternatenames': {'boost': 2.0, 'value': cc}}}]}}}"
   ]
  },
  {
   "cell_type": "code",
   "execution_count": 66,
   "metadata": {},
   "outputs": [
    {
     "data": {
      "text/plain": [
       "{u'_shards': {u'failed': 0, u'successful': 5, u'total': 5},\n",
       " u'hits': {u'hits': [], u'max_score': None, u'total': 0},\n",
       " u'timed_out': False,\n",
       " u'took': 4}"
      ]
     },
     "execution_count": 66,
     "metadata": {},
     "output_type": "execute_result"
    }
   ],
   "source": [
    "db.eserver.search(q, index=\"geonames\", doc_type=\"places\")"
   ]
  },
  {
   "cell_type": "code",
   "execution_count": 58,
   "metadata": {},
   "outputs": [
    {
     "data": {
      "text/plain": [
       "{'_score': 0.9815777265638193,\n",
       " 'admin1': '',\n",
       " 'admin2': '',\n",
       " 'admin3': u'',\n",
       " 'admin4': u'',\n",
       " 'alternatenames': [u'alto karabaj',\n",
       "  u\"arts'akh\",\n",
       "  u'dagliq qarabag muxtar vilayati',\n",
       "  u'da\\u011fl\\u0131q qaraba\\u011f muxtar vilay\\u01ddti',\n",
       "  u'lerrnayin garabagh',\n",
       "  u\"lerrnayin gharabaghi hanrapetut'yun\",\n",
       "  u\"lerrnayin gharabaghi ink'navar marz\",\n",
       "  u'mountainous karabakh',\n",
       "  u'nagorno karabaj',\n",
       "  u'nagorno-karabakh',\n",
       "  u\"nagorno-karabakhskaya avtonomnaya oblast'\",\n",
       "  u'nagorno-karabakhskaya respublika',\n",
       "  u'nagorny karabakh autonomous region',\n",
       "  u'nagornyy karabakh',\n",
       "  u'qarabag vilayati',\n",
       "  u'qaraba\\u011f vilay\\u01ddti',\n",
       "  u'republic of mountainous gharabagh',\n",
       "  u'yuxariqarabag',\n",
       "  u'yuxar\\u0131qaraba\\u011f',\n",
       "  u'\\u043d\\u0430\\u0433\\u043e\\u0440\\u043d\\u043e-\\u043a\\u0430\\u0440\\u0430\\u0431\\u0430\\u0445'],\n",
       " 'asciiname': u'nagorno-karabakh [provisional]',\n",
       " 'cc2': u'az',\n",
       " 'city': u'nagorno-karabakh [provisional]',\n",
       " 'confidence': 0.9815777265638193,\n",
       " 'coordinates': [46.58333, 40.0],\n",
       " 'country': u'Azerbaijan',\n",
       " 'countryCode': u'az',\n",
       " 'dem': u'1318',\n",
       " 'elevation': -1,\n",
       " 'featureClass': u'a',\n",
       " 'featureCode': u'admd',\n",
       " 'geonameid': u'409432',\n",
       " 'id': u'409432',\n",
       " 'ltype': 'city',\n",
       " 'modificationDate': u'2008-11-23',\n",
       " 'name': u'nagorno-karabakh [provisional]',\n",
       " 'population': 0,\n",
       " 'timezone': u'asia/baku'}"
      ]
     },
     "execution_count": 58,
     "metadata": {},
     "output_type": "execute_result"
    }
   ],
   "source": [
    "geo.gazetteer.query(\"nagorno karabakh\")[0].__dict__"
   ]
  },
  {
   "cell_type": "code",
   "execution_count": 11,
   "metadata": {},
   "outputs": [],
   "source": [
    "test_data = []\n",
    "cnt = 0\n",
    "for ln in a:\n",
    "    test_data.append(json.loads(ln))\n",
    "    cnt += 1\n",
    "    if cnt > 5000:\n",
    "        break"
   ]
  },
  {
   "cell_type": "code",
   "execution_count": 13,
   "metadata": {},
   "outputs": [],
   "source": [
    "def gcode(data):\n",
    "    for d in data:\n",
    "        geo.annotate(d)"
   ]
  },
  {
   "cell_type": "code",
   "execution_count": 15,
   "metadata": {},
   "outputs": [
    {
     "name": "stderr",
     "output_type": "stream",
     "text": [
      "No handlers could be found for logger \"elasticsearch.trace\"\n"
     ]
    },
    {
     "name": "stdout",
     "output_type": "stream",
     "text": [
      "CPU times: user 724 ms, sys: 48 ms, total: 772 ms\n",
      "Wall time: 2.38 s\n"
     ]
    }
   ],
   "source": [
    "%time gcode(test_data[:100])"
   ]
  },
  {
   "cell_type": "code",
   "execution_count": null,
   "metadata": {},
   "outputs": [],
   "source": [
    "import concurrent.futures\n",
    "impor"
   ]
  }
 ],
 "metadata": {
  "kernelspec": {
   "display_name": "Python 2",
   "language": "python",
   "name": "python2"
  },
  "language_info": {
   "codemirror_mode": {
    "name": "ipython",
    "version": 2
   },
   "file_extension": ".py",
   "mimetype": "text/x-python",
   "name": "python",
   "nbconvert_exporter": "python",
   "pygments_lexer": "ipython2",
   "version": "2.7.12"
  }
 },
 "nbformat": 4,
 "nbformat_minor": 2
}
